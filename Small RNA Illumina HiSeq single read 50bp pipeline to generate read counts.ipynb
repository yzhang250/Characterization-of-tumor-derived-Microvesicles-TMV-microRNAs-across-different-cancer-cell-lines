{
 "cells": [
  {
   "cell_type": "code",
   "execution_count": 156,
   "metadata": {},
   "outputs": [],
   "source": [
    "from pathlib import Path\n",
    "import subprocess\n",
    "\"\"\"\n",
    "Needs samtools, bowtie2, cutadapt, fastqc in the PATH and this is in python3.7\n",
    "\"\"\"\n",
    "\n",
    "path = \"Raw_reads/\"\n",
    "\n",
    "# This can be any SCDS fastq raw read files\n",
    "fastq_file = \"SCDSPcelA-V1N-1_S75_L008_R1_001.fastq\"\n",
    "\n",
    "# Align index is default hsa_miRNA_mature_index, but can be hsa_miRNA_hairpin_index, hg19/hg19\n",
    "align_index = \"hsa_miRNA_mature_index\""
   ]
  },
  {
   "cell_type": "markdown",
   "metadata": {},
   "source": [
    "### Used fastqc to check on the fastq raw read file "
   ]
  },
  {
   "cell_type": "code",
   "execution_count": 157,
   "metadata": {},
   "outputs": [
    {
     "name": "stdout",
     "output_type": "stream",
     "text": [
      "Analysis complete for SCDSPcelA-V1N-1_S75_L008_R1_001.fastq\n",
      "\n"
     ]
    }
   ],
   "source": [
    "report = subprocess.check_output([\"fastqc\", path + fastq_file])\n",
    "print(report.decode(\"utf-8\"))"
   ]
  },
  {
   "cell_type": "markdown",
   "metadata": {},
   "source": [
    "### Use the link below to see example of the report\n",
    "[The QC of the fastq file](./Raw_reads/SCDSPcelA-V1N-1_S75_L008_R1_001_fastqc.html)"
   ]
  },
  {
   "cell_type": "markdown",
   "metadata": {},
   "source": [
    "### Apparently adaptors are needed to be trimmed"
   ]
  },
  {
   "cell_type": "code",
   "execution_count": 155,
   "metadata": {},
   "outputs": [
    {
     "name": "stdout",
     "output_type": "stream",
     "text": [
      "This is cutadapt 1.18 with Python 2.7.15\n",
      "Command line parameters: -f fastq -a AGATCGGAAGAGCACACGTCT -g GTTCAGAGTTCTACAGTCCGACGATC -e 0.15 -O 10 -m 14 Raw_reads/SCDSPcelA-V1N-1_S75_L008_R1_001.fastq -o Raw_reads/trimmed_SCDSPcelA-V1N-1_S75_L008_R1_001.fastq\n",
      "Processing reads on 1 core in single-end mode ...\n",
      "Finished in 155.84 s (45 us/read; 1.33 M reads/minute).\n",
      "\n",
      "=== Summary ===\n",
      "\n",
      "Total reads processed:               3,451,121\n",
      "Reads with adapters:                 3,420,088 (99.1%)\n",
      "Reads that were too short:              26,045 (0.8%)\n",
      "Reads written (passing filters):     3,425,076 (99.2%)\n",
      "\n",
      "Total basepairs processed:   172,556,050 bp\n",
      "Total written (filtered):     92,852,383 bp (53.8%)\n",
      "\n",
      "=== Adapter 1 ===\n",
      "\n",
      "Sequence: AGATCGGAAGAGCACACGTCT; Type: regular 3'; Length: 21; Trimmed: 3418965 times.\n",
      "\n",
      "No. of allowed errors:\n",
      "0-5 bp: 0; 6-12 bp: 1; 13-19 bp: 2; 20-21 bp: 3\n",
      "\n",
      "Bases preceding removed adapters:\n",
      "  A: 15.4%\n",
      "  C: 22.8%\n",
      "  G: 10.4%\n",
      "  T: 51.3%\n",
      "  none/other: 0.1%\n",
      "\n",
      "Overview of removed sequences\n",
      "length\tcount\texpect\tmax.err\terror counts\n",
      "9\t1372\t13.2\t1\t0 1372\n",
      "10\t2122\t3.3\t1\t2093 29\n",
      "11\t6508\t0.8\t1\t6368 140\n",
      "12\t26703\t0.2\t1\t26158 517 28\n",
      "13\t120912\t0.1\t1\t118329 2424 159\n",
      "14\t61006\t0.0\t2\t59324 1344 338\n",
      "15\t64283\t0.0\t2\t62034 1654 595\n",
      "16\t70195\t0.0\t2\t67572 2197 426\n",
      "17\t329571\t0.0\t2\t318612 8849 1406 704\n",
      "18\t366619\t0.0\t2\t354506 10594 1451 68\n",
      "19\t266355\t0.0\t2\t256917 8154 1065 219\n",
      "20\t87080\t0.0\t3\t83213 3124 479 264\n",
      "21\t79064\t0.0\t3\t75439 2943 426 256\n",
      "22\t65047\t0.0\t3\t61997 2446 402 202\n",
      "23\t45781\t0.0\t3\t43491 1815 296 179\n",
      "24\t40037\t0.0\t3\t38148 1490 239 160\n",
      "25\t66000\t0.0\t3\t63115 2484 285 116\n",
      "26\t342729\t0.0\t3\t329660 11475 1133 461\n",
      "27\t486770\t0.0\t3\t467493 17261 1451 565\n",
      "28\t350415\t0.0\t3\t337019 12102 945 349\n",
      "29\t91420\t0.0\t3\t87908 3134 298 80\n",
      "30\t255881\t0.0\t3\t245973 8941 744 223\n",
      "31\t44014\t0.0\t3\t41681 2119 170 44\n",
      "32\t34681\t0.0\t3\t33022 1490 119 50\n",
      "33\t39654\t0.0\t3\t37446 2015 134 59\n",
      "34\t17785\t0.0\t3\t16933 777 47 28\n",
      "35\t16153\t0.0\t3\t15357 716 48 32\n",
      "36\t14775\t0.0\t3\t14146 561 41 27\n",
      "37\t8808\t0.0\t3\t8411 340 26 31\n",
      "38\t5588\t0.0\t3\t5267 265 19 37\n",
      "39\t2931\t0.0\t3\t2730 173 22 6\n",
      "40\t1679\t0.0\t3\t1581 81 10 7\n",
      "41\t2464\t0.0\t3\t2301 145 12 6\n",
      "42\t287\t0.0\t3\t277 10\n",
      "43\t98\t0.0\t3\t94 4\n",
      "44\t62\t0.0\t3\t57 3 2\n",
      "45\t55\t0.0\t3\t53 1 1\n",
      "46\t33\t0.0\t3\t33\n",
      "47\t20\t0.0\t3\t20\n",
      "48\t10\t0.0\t3\t10\n",
      "49\t91\t0.0\t3\t83 7 1\n",
      "50\t3907\t0.0\t3\t3395 444 55 13\n",
      "\n",
      "=== Adapter 2 ===\n",
      "\n",
      "Sequence: GTTCAGAGTTCTACAGTCCGACGATC; Type: regular 5'; Length: 26; Trimmed: 1123 times.\n",
      "\n",
      "No. of allowed errors:\n",
      "0-5 bp: 0; 6-12 bp: 1; 13-19 bp: 2; 20-26 bp: 3\n",
      "\n",
      "Overview of removed sequences\n",
      "length\tcount\texpect\tmax.err\terror counts\n",
      "15\t1\t0.0\t2\t1\n",
      "16\t7\t0.0\t2\t7\n",
      "17\t12\t0.0\t2\t9 2 1\n",
      "18\t5\t0.0\t2\t3 2\n",
      "19\t13\t0.0\t2\t12 1\n",
      "20\t11\t0.0\t3\t9 2\n",
      "21\t8\t0.0\t3\t2 5 1\n",
      "22\t409\t0.0\t3\t297 111 1\n",
      "23\t417\t0.0\t3\t275 130 12\n",
      "24\t92\t0.0\t3\t18 56 14 4\n",
      "25\t87\t0.0\t3\t28 42 11 6\n",
      "26\t34\t0.0\t3\t0 25 7 2\n",
      "27\t5\t0.0\t3\t0 2 1 2\n",
      "28\t1\t0.0\t3\t0 0 0 1\n",
      "29\t2\t0.0\t3\t0 0 1 1\n",
      "31\t1\t0.0\t3\t0 0 0 1\n",
      "33\t2\t0.0\t3\t0 0 2\n",
      "34\t1\t0.0\t3\t0 0 0 1\n",
      "35\t2\t0.0\t3\t0 0 0 2\n",
      "36\t1\t0.0\t3\t0 0 0 1\n",
      "37\t1\t0.0\t3\t0 0 1\n",
      "42\t6\t0.0\t3\t0 0 3 3\n",
      "43\t3\t0.0\t3\t0 0 2 1\n",
      "44\t2\t0.0\t3\t0 0 1 1\n",
      "\n",
      "\n"
     ]
    }
   ],
   "source": [
    "# This step trimmed the NEB adapters\n",
    "report = subprocess.check_output(['cutadapt',\n",
    "                         '-f',\n",
    "                         'fastq',\n",
    "                         '-a',\n",
    "                         'AGATCGGAAGAGCACACGTCT',\n",
    "                         '-g',\n",
    "                         'GTTCAGAGTTCTACAGTCCGACGATC',\n",
    "                         '-e',\n",
    "                         '0.15',\n",
    "                         '-O',\n",
    "                         '10',\n",
    "                         '-m',\n",
    "                         '14',\n",
    "                         path + fastq_file,\n",
    "                         '-o',\n",
    "                         path + \"trimmed_\" + fastq_file])\n",
    "print(report.decode(\"utf-8\"))"
   ]
  },
  {
   "cell_type": "code",
   "execution_count": 158,
   "metadata": {},
   "outputs": [
    {
     "name": "stdout",
     "output_type": "stream",
     "text": [
      "Analysis complete for trimmed_SCDSPcelA-V1N-1_S75_L008_R1_001.fastq\n",
      "\n"
     ]
    }
   ],
   "source": [
    "# Take another look with fastqc\n",
    "trimmed_fastq_file = \"trimmed_\" + fastq_file\n",
    "report = subprocess.check_output([\"fastqc\", path + trimmed_fastq_file])\n",
    "print(report.decode(\"utf-8\"))"
   ]
  },
  {
   "cell_type": "markdown",
   "metadata": {},
   "source": [
    "### Use the link below to see example of the report\n",
    "[The QC of the trimmed_fastq file](./Raw_reads/trimmed_SCDSPcelA-V1N-1_S75_L008_R1_001_fastqc.html)"
   ]
  },
  {
   "cell_type": "code",
   "execution_count": 159,
   "metadata": {},
   "outputs": [],
   "source": [
    "# Make a miRNA hairpin and mature index file with Bowtie2 \n",
    "hsa_miRNA_hairpin_index = Path(path + \"hsa_miRNA_hairpin.fa\")\n",
    "if not hsa_miRNA_hairpin_index.is_file():\n",
    "    res = []\n",
    "    hsa = False\n",
    "    with open(path + \"hairpin.fa\") as file:\n",
    "        for line in file:\n",
    "            if line.startswith(\">hsa\"):\n",
    "                hsa = True\n",
    "                res.append(line)\n",
    "            elif line.startswith(\">\"):\n",
    "                hsa = False\n",
    "            else:\n",
    "                if hsa:\n",
    "                    res.append(line.replace(\"U\", \"T\"))\n",
    "    with open (path + \"hsa_miRNA_hairpin.fa\", \"w\") as file:\n",
    "        for line in res:\n",
    "            file.write(line)\n",
    "    subprocess.check_output([\"bowtie2-build\", path + \"hsa_miRNA_hairpin.fa\", path+\"hsa_miRNA_hairpin_index\"])\n",
    "    \n",
    "hsa_miRNA_mature_index = Path(path + \"hsa_miRNA_mature.fa\")\n",
    "if not hsa_miRNA_mature_index.is_file():\n",
    "    res = []\n",
    "    hsa = False\n",
    "    with open(path + \"mature.fa\") as file:\n",
    "        for line in file:\n",
    "            if line.startswith(\">hsa\"):\n",
    "                hsa = True\n",
    "                res.append(line)\n",
    "            elif line.startswith(\">\"):\n",
    "                hsa = False\n",
    "            else:\n",
    "                if hsa:\n",
    "                    res.append(line.replace(\"U\", \"T\"))\n",
    "    with open (path + \"hsa_miRNA_mature.fa\", \"w\") as file:\n",
    "        for line in res:\n",
    "            file.write(line)\n",
    "    subprocess.check_output([\"bowtie2-build\", path + \"hsa_miRNA_mature.fa\", path+\"hsa_miRNA_mature_index\"])"
   ]
  },
  {
   "cell_type": "code",
   "execution_count": 160,
   "metadata": {},
   "outputs": [
    {
     "name": "stdout",
     "output_type": "stream",
     "text": [
      "Currently analyzing: PcelA\n"
     ]
    }
   ],
   "source": [
    "# Extract sample name\n",
    "def extract_sample_name(fastq_file):\n",
    "    return fastq_file[4:fastq_file.index(\"-\")]\n",
    "sample_name = extract_sample_name(fastq_file)\n",
    "print(\"Currently analyzing: \"+sample_name)"
   ]
  },
  {
   "cell_type": "code",
   "execution_count": 161,
   "metadata": {},
   "outputs": [
    {
     "name": "stdout",
     "output_type": "stream",
     "text": [
      "Done! The result is in Raw_reads/aln_PcelA.sam\n"
     ]
    }
   ],
   "source": [
    "# Used bowtie2 to align the trimmed reads to align_index\n",
    "# Method adapted from https://www.ncbi.nlm.nih.gov/pmc/articles/PMC4652620/\n",
    "subprocess.check_output(['bowtie2',\n",
    "                         '-q',\n",
    "                         '--phred33',\n",
    "                         '-p',\n",
    "                         '8',\n",
    "                         '-D',\n",
    "                         '20',\n",
    "                         '--local',\n",
    "                         '-R',\n",
    "                         \"3\",\n",
    "                         '-N',\n",
    "                         '0',\n",
    "                         '-L',\n",
    "                         '8',\n",
    "                         '-i',\n",
    "                         \"S,1,0.50\",\n",
    "                         '-x',\n",
    "                         path + align_index,\n",
    "                          path + trimmed_fastq_file,\n",
    "                         '-S', path + \"aln_\" + sample_name +\".sam\"])\n",
    "print(\"Done! The result is in \" + path + \"aln_\" + sample_name +\".sam\")"
   ]
  },
  {
   "cell_type": "code",
   "execution_count": 162,
   "metadata": {},
   "outputs": [
    {
     "name": "stdout",
     "output_type": "stream",
     "text": [
      "3425076 + 0 in total (QC-passed reads + QC-failed reads)\n",
      "0 + 0 secondary\n",
      "0 + 0 supplementary\n",
      "0 + 0 duplicates\n",
      "1254190 + 0 mapped (36.62% : N/A)\n",
      "0 + 0 paired in sequencing\n",
      "0 + 0 read1\n",
      "0 + 0 read2\n",
      "0 + 0 properly paired (N/A : N/A)\n",
      "0 + 0 with itself and mate mapped\n",
      "0 + 0 singletons (N/A : N/A)\n",
      "0 + 0 with mate mapped to a different chr\n",
      "0 + 0 with mate mapped to a different chr (mapQ>=5)\n",
      "\n"
     ]
    }
   ],
   "source": [
    "# Check the flatstat of the above aligned sam file\n",
    "report = subprocess.check_output([\"samtools\", \"flagstat\",  path + \"aln_\" + sample_name +\".sam\"])\n",
    "with open(\"Samtools_flagstat/\" + sample_name + '_report.txt', \"w\") as outfile:\n",
    "    for line in report.decode(\"utf-8\"):\n",
    "        outfile.write(line)\n",
    "print(report.decode(\"utf-8\"))\n",
    "\n",
    "# Convert the sam file to bam file for downstream analysis\n",
    "my_cmd = [\"samtools\", \"view\", \"-S\", \"-b\", path + \"aln_\" + sample_name +\".sam\"]\n",
    "with open(path + \"aln_\" + sample_name +\".bam\", \"w\") as outfile:\n",
    "    subprocess.call(my_cmd, stdout=outfile)\n",
    "\n",
    "# Sort and index the bam file to make bai file\n",
    "subprocess.check_output([\"samtools\", \"sort\", \"-o\", \n",
    "                         path + \"sorted_\" + \"aln_\" + sample_name +\".bam\", path + \"aln_\" + sample_name +\".bam\"])\n",
    "subprocess.check_output([\"samtools\", \"index\",\n",
    "                         path + \"sorted_\" + \"aln_\" + sample_name +\".bam\"])\n",
    "\n",
    "# Redirect the samtools idxstats to a file in Raw_counts\n",
    "from shlex import split\n",
    "p1 = subprocess.Popen(split(\"samtools idxstats \" + path + \"sorted_\" + \"aln_\" + sample_name +\".bam\"), stdout=subprocess.PIPE)\n",
    "with open(\"Raw_counts/\" + sample_name + \"_raw_count.txt\", \"w\") as outfile:\n",
    "    subprocess.Popen(split(\"cut -f1,3\"), stdin=p1.stdout, stdout=outfile)"
   ]
  },
  {
   "cell_type": "code",
   "execution_count": null,
   "metadata": {},
   "outputs": [],
   "source": []
  }
 ],
 "metadata": {
  "kernelspec": {
   "display_name": "Python 3",
   "language": "python",
   "name": "python3"
  }
 },
 "nbformat": 4,
 "nbformat_minor": 2
}
